{
  "nbformat": 4,
  "nbformat_minor": 0,
  "metadata": {
    "colab": {
      "provenance": []
    },
    "kernelspec": {
      "name": "python3",
      "display_name": "Python 3"
    },
    "language_info": {
      "name": "python"
    }
  },
  "cells": [
    {
      "cell_type": "code",
      "execution_count": 5,
      "metadata": {
        "colab": {
          "base_uri": "https://localhost:8080/"
        },
        "id": "VPrmTRjp4G13",
        "outputId": "802855ed-90f5-44d5-b06b-47a667d02149"
      },
      "outputs": [
        {
          "output_type": "execute_result",
          "data": {
            "text/plain": [
              "array([0.96666667, 0.96666667, 0.9       , 1.        , 1.        ])"
            ]
          },
          "metadata": {},
          "execution_count": 5
        }
      ],
      "source": [
        "import sklearn\n",
        "from sklearn import datasets\n",
        "\n",
        "# Load iris dataset\n",
        "iris = datasets.load_iris()\n",
        "\n",
        "# mendefinisikan atribut dan label pada dataset\n",
        "x = iris.data\n",
        "y = iris.target\n",
        "\n",
        "from sklearn import tree\n",
        "\n",
        "# membuat model dengan decision tree classifier\n",
        "clf = tree.DecisionTreeClassifier()\n",
        "\n",
        "from sklearn.model_selection import cross_val_score\n",
        "\n",
        "# mengevaluasi performa model dengan cross_val_score\n",
        "scores = cross_val_score(clf, x, y, cv=5)\n",
        "scores"
      ]
    }
  ]
}